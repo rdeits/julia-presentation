{
 "cells": [
  {
   "cell_type": "markdown",
   "metadata": {
    "slideshow": {
     "slide_type": "slide"
    }
   },
   "source": [
    "# Introducing Julia\n",
    "\n",
    "Robin Deits\n",
    "Dec. 2, 2015"
   ]
  },
  {
   "cell_type": "markdown",
   "metadata": {
    "slideshow": {
     "slide_type": "slide"
    }
   },
   "source": [
    "# What is Julia? \n",
    "\n",
    "* \"Julia is a new general-purpose programming language, designed for scientific computing\"\n",
    "* \"Julia is a high-level, JIT-compiled, garbage-collected, dynamic language\"\n",
    "* \"Julia is *fast*\"\n",
    "* \"Julia is *free*\""
   ]
  },
  {
   "cell_type": "markdown",
   "metadata": {
    "slideshow": {
     "slide_type": "slide"
    }
   },
   "source": [
    "# Julia is...\n",
    "\n",
    "* like Python: little boilerplate, readable code, list comprehensions\n",
    "* like Matlab: clean, terse syntax for math expressions\n",
    "    * `x = A \\ b`\n",
    "* like C++: polymorphic functions, templates \n",
    "    * (but only when you want them ;-) )"
   ]
  },
  {
   "cell_type": "markdown",
   "metadata": {
    "slideshow": {
     "slide_type": "slide"
    }
   },
   "source": [
    "# Julia is not...\n",
    "\n",
    "...a Matlab clone\n",
    "\n",
    "Julia uses Matlab function names when convenient, but the fundamentals of the language are very different (not everything is a matrix...)"
   ]
  },
  {
   "cell_type": "markdown",
   "metadata": {
    "slideshow": {
     "slide_type": "slide"
    }
   },
   "source": [
    "# A Tour of Julia\n",
    "\n",
    "Let's learn by doing..."
   ]
  },
  {
   "cell_type": "markdown",
   "metadata": {
    "slideshow": {
     "slide_type": "slide"
    }
   },
   "source": [
    "# Variables"
   ]
  },
  {
   "cell_type": "code",
   "execution_count": 1,
   "metadata": {
    "collapsed": false,
    "slideshow": {
     "slide_type": "-"
    }
   },
   "outputs": [
    {
     "data": {
      "text/plain": [
       "1"
      ]
     },
     "execution_count": 1,
     "metadata": {},
     "output_type": "execute_result"
    }
   ],
   "source": [
    "x = 1"
   ]
  },
  {
   "cell_type": "markdown",
   "metadata": {
    "slideshow": {
     "slide_type": "slide"
    }
   },
   "source": [
    "# Vectors"
   ]
  },
  {
   "cell_type": "code",
   "execution_count": 2,
   "metadata": {
    "collapsed": false,
    "slideshow": {
     "slide_type": "-"
    }
   },
   "outputs": [
    {
     "data": {
      "text/plain": [
       "5.477225575051661"
      ]
     },
     "execution_count": 2,
     "metadata": {},
     "output_type": "execute_result"
    }
   ],
   "source": [
    "v = [1, 2, 3, 4]\n",
    "norm(v)"
   ]
  },
  {
   "cell_type": "markdown",
   "metadata": {
    "slideshow": {
     "slide_type": "slide"
    }
   },
   "source": [
    "# Matrices"
   ]
  },
  {
   "cell_type": "code",
   "execution_count": 3,
   "metadata": {
    "collapsed": false,
    "slideshow": {
     "slide_type": "-"
    }
   },
   "outputs": [
    {
     "data": {
      "text/plain": [
       "2-element Array{Float64,1}:\n",
       " -3.0\n",
       "  3.5"
      ]
     },
     "execution_count": 3,
     "metadata": {},
     "output_type": "execute_result"
    }
   ],
   "source": [
    "A = [1 2; 3 4]\n",
    "b = [4, 5]\n",
    "x = A \\ b"
   ]
  },
  {
   "cell_type": "markdown",
   "metadata": {
    "slideshow": {
     "slide_type": "slide"
    }
   },
   "source": [
    "# Functions"
   ]
  },
  {
   "cell_type": "code",
   "execution_count": 4,
   "metadata": {
    "collapsed": false,
    "slideshow": {
     "slide_type": "-"
    }
   },
   "outputs": [
    {
     "name": "stdout",
     "output_type": "stream",
     "text": [
      "hello, world"
     ]
    }
   ],
   "source": [
    "function say_hello(name)\n",
    "    println(\"hello, \", name)\n",
    "end\n",
    "say_hello(\"world\")"
   ]
  },
  {
   "cell_type": "markdown",
   "metadata": {
    "slideshow": {
     "slide_type": "slide"
    }
   },
   "source": [
    "# Types"
   ]
  },
  {
   "cell_type": "code",
   "execution_count": 5,
   "metadata": {
    "collapsed": false,
    "slideshow": {
     "slide_type": "-"
    }
   },
   "outputs": [],
   "source": [
    "abstract Animal\n",
    "\n",
    "type Dog <: Animal\n",
    "    name\n",
    "end\n",
    "\n",
    "type Cat <: Animal\n",
    "    name\n",
    "end"
   ]
  },
  {
   "cell_type": "code",
   "execution_count": 6,
   "metadata": {
    "collapsed": false,
    "slideshow": {
     "slide_type": "fragment"
    }
   },
   "outputs": [],
   "source": [
    "function speak(d::Dog)\n",
    "    println(\"woof\")\n",
    "end\n",
    "\n",
    "function speak(c::Cat)\n",
    "    println(\"meow\")\n",
    "end\n",
    "\n",
    "dog = Dog(\"fido\")\n",
    "cat = Cat(\"felix\")\n",
    "speak(dog)\n",
    "speak(cat)"
   ]
  },
  {
   "cell_type": "markdown",
   "metadata": {
    "slideshow": {
     "slide_type": "slide"
    }
   },
   "source": [
    "# Methods with and without types:"
   ]
  },
  {
   "cell_type": "code",
   "execution_count": 7,
   "metadata": {
    "collapsed": false,
    "slideshow": {
     "slide_type": "-"
    }
   },
   "outputs": [],
   "source": [
    "function speak(c::Cat)\n",
    "    println(\"meow\")\n",
    "end\n",
    "\n",
    "function speak(x)\n",
    "    println(\"hi there, I'm: \", x)\n",
    "end\n",
    "\n",
    "cat = Cat(\"felix\")\n",
    "speak(cat)\n",
    "speak(3.14159)"
   ]
  },
  {
   "cell_type": "markdown",
   "metadata": {
    "slideshow": {
     "slide_type": "slide"
    }
   },
   "source": [
    "# Methods for abstract types"
   ]
  },
  {
   "cell_type": "code",
   "execution_count": 8,
   "metadata": {
    "collapsed": false,
    "slideshow": {
     "slide_type": "-"
    }
   },
   "outputs": [
    {
     "name": "stdout",
     "output_type": "stream",
     "text": [
      "\n",
      "woof\n",
      "meow\n",
      "meow\n",
      "hi there, I'm: 3.14159\n",
      "felix jumping"
     ]
    }
   ],
   "source": [
    "# abstract Animal\n",
    "\n",
    "# type Dog <: Animal\n",
    "#     name\n",
    "# end\n",
    "\n",
    "# type Cat <: Animal\n",
    "#     name\n",
    "# end\n",
    "\n",
    "function jump(a::Animal)\n",
    "    println(a.name, \" jumping\")\n",
    "end\n",
    "\n",
    "jump(cat)\n",
    "jump(dog)"
   ]
  },
  {
   "cell_type": "markdown",
   "metadata": {
    "slideshow": {
     "slide_type": "slide"
    }
   },
   "source": [
    "# Packages and Plotting"
   ]
  },
  {
   "cell_type": "code",
   "execution_count": 9,
   "metadata": {
    "collapsed": false,
    "slideshow": {
     "slide_type": "-"
    }
   },
   "outputs": [
    {
     "data": {
      "image/png": "[encoded data removed]",
      "text/plain": [
       "PyPlot.Figure(PyObject <matplotlib.figure.Figure object at 0x31df1e2d0>)"
      ]
     },
     "metadata": {},
     "output_type": "display_data"
    },
    {
     "data": {
      "text/plain": [
       "1-element Array{Any,1}:\n",
       " PyObject <matplotlib.lines.Line2D object at 0x31e1378d0>"
      ]
     },
     "execution_count": 9,
     "metadata": {},
     "output_type": "execute_result"
    },
    {
     "name": "stdout",
     "output_type": "stream",
     "text": [
      "\n",
      "fido jumping\n"
     ]
    }
   ],
   "source": [
    "# Pkg.add(\"PyPlot\") # install \"PyPlot\" from the internet\n",
    "using PyPlot # import functions from PyPlot into our workspace\n",
    "x = linspace(0, 2*pi)\n",
    "plot(x, sin(x), \"b.-\")"
   ]
  },
  {
   "cell_type": "markdown",
   "metadata": {
    "slideshow": {
     "slide_type": "slide"
    }
   },
   "source": [
    "# LQR"
   ]
  },
  {
   "cell_type": "code",
   "execution_count": 5,
   "metadata": {
    "collapsed": false,
    "slideshow": {
     "slide_type": "-"
    }
   },
   "outputs": [
    {
     "name": "stdout",
     "output_type": "stream",
     "text": [
      "K = [5.353949274783947 4.021335259651989\n",
      " 4.021335259651994 9.090599548981206]\n",
      "\n",
      "--------\n",
      "\n",
      "  0.043779 seconds (105.00 k allocations: 19.028 MB, 15.14% gc time)\n"
     ]
    }
   ],
   "source": [
    "# Pkg.clone(\"https://github.com/JuliaControl/Control.jl.git\")\n",
    "using Control\n",
    "A = [1.0 2; 3 4]\n",
    "B = [1.0 0; 0 1]\n",
    "Q = eye(2)\n",
    "R = 0.1 * eye(2)\n",
    "K = lqr(A, B, Q, R)\n",
    "@show K\n",
    "\n",
    "println(\"\\n--------\\n\")\n",
    "\n",
    "@time for j = 1:1000; K = lqr(A, B, Q, R); end"
   ]
  },
  {
   "cell_type": "markdown",
   "metadata": {
    "slideshow": {
     "slide_type": "slide"
    }
   },
   "source": [
    "### Equivalent Matlab code:\n",
    "\n",
    "```\n",
    ">> A = [1.0 2; 3 4];\n",
    ">> B = [1.0 0; 0 1];\n",
    ">> Q = eye(2);\n",
    ">> R = 0.1 * eye(2);\n",
    ">> K = lqr(A, B, Q, R)\n",
    "\n",
    "K =\n",
    "\n",
    "    5.3539    4.0213\n",
    "    4.0213    9.0906\n",
    "\n",
    ">> tic(); for j = 1:1000; K = lqr(A, B, Q, R); end; toc()\n",
    "Elapsed time is 2.058313 seconds.\n",
    "```\n"
   ]
  },
  {
   "cell_type": "code",
   "execution_count": 6,
   "metadata": {
    "collapsed": false,
    "slideshow": {
     "slide_type": "fragment"
    }
   },
   "outputs": [
    {
     "data": {
      "text/plain": [
       "46.986301369863014"
      ]
     },
     "execution_count": 6,
     "metadata": {},
     "output_type": "execute_result"
    }
   ],
   "source": [
    "2.058 / 0.0438"
   ]
  },
  {
   "cell_type": "markdown",
   "metadata": {
    "slideshow": {
     "slide_type": "slide"
    }
   },
   "source": [
    "# Metaprogramming"
   ]
  },
  {
   "cell_type": "code",
   "execution_count": 12,
   "metadata": {
    "collapsed": false
   },
   "outputs": [
    {
     "name": "stdout",
     "output_type": "stream",
     "text": [
      "0.773784 seconds (1.04 M allocations: 62.017 MB, 2.37% gc time)\n",
      "Expr \n",
      "  head: Symbol call\n",
      "  args: Array(Any,(3,))\n",
      "    1: Symbol +\n",
      "    2: Expr \n",
      "      head: Symbol call\n",
      "      args: Array(Any,(3,))\n",
      "        1: Symbol *\n",
      "        2: Int64 "
     ]
    }
   ],
   "source": [
    "expression = :(2 * x + y)\n",
    "dump(expression)"
   ]
  },
  {
   "cell_type": "markdown",
   "metadata": {
    "slideshow": {
     "slide_type": "slide"
    }
   },
   "source": [
    "# True (not textual) Macros"
   ]
  },
  {
   "cell_type": "code",
   "execution_count": 13,
   "metadata": {
    "collapsed": false,
    "slideshow": {
     "slide_type": "-"
    }
   },
   "outputs": [
    {
     "ename": "LoadError",
     "evalue": "LoadError: AssertionError: 1 == 2\nwhile loading In[13], in expression starting on line 1",
     "output_type": "error",
     "traceback": [
      "LoadError: AssertionError: 1 == 2\nwhile loading In[13], in expression starting on line 1",
      ""
     ]
    }
   ],
   "source": [
    "@assert 1 == 2\n",
    "\n",
    "# Compare with Matlab:\n",
    "# >> assert(1 == 2)\n",
    "# Assertion failed."
   ]
  },
  {
   "cell_type": "code",
   "execution_count": 14,
   "metadata": {
    "collapsed": false,
    "slideshow": {
     "slide_type": "fragment"
    }
   },
   "outputs": [
    {
     "data": {
      "text/plain": [
       ":(if 1 == 2\n",
       "        nothing\n",
       "    else \n",
       "        Base.throw(Base.Main.Base.AssertionError(\"1 == 2\"))\n",
       "    end)"
      ]
     },
     "execution_count": 14,
     "metadata": {},
     "output_type": "execute_result"
    },
    {
     "name": "stdout",
     "output_type": "stream",
     "text": [
      "2\n",
      "        3: Symbol x\n",
      "      typ: Any\n",
      "    3: Symbol y\n",
      "  typ: Any\n"
     ]
    }
   ],
   "source": [
    "macroexpand(:(@assert 1 == 2))"
   ]
  },
  {
   "cell_type": "markdown",
   "metadata": {
    "slideshow": {
     "slide_type": "slide"
    }
   },
   "source": [
    "# Julia all the way down (mostly)"
   ]
  },
  {
   "cell_type": "code",
   "execution_count": 15,
   "metadata": {
    "collapsed": false,
    "slideshow": {
     "slide_type": "-"
    }
   },
   "outputs": [
    {
     "data": {
      "text/html": [
       "inv<i>{T}</i>(A::<b>Union{DenseArray{T,2},SubArray{T,2,A<:DenseArray{T,N},I<:Tuple{Vararg{Union{Colon,Int64,Range{Int64}}}},LD}}</b>) at <a href=\"https://github.com/JuliaLang/julia/tree/cbe1bee3a8f27ba4f349556857bf4615ee5fa68f/base/linalg/dense.jl#L353\" target=\"_blank\">linalg/dense.jl:353</a>"
      ],
      "text/plain": [
       "inv{T}(A::Union{DenseArray{T,2},SubArray{T,2,A<:DenseArray{T,N},I<:Tuple{Vararg{Union{Colon,Int64,Range{Int64}}}},LD}}) at linalg/dense.jl:353"
      ]
     },
     "execution_count": 15,
     "metadata": {},
     "output_type": "execute_result"
    }
   ],
   "source": [
    "A = [1.0 2.0; 3.0 4.0]\n",
    "@which inv(A)"
   ]
  },
  {
   "cell_type": "code",
   "execution_count": 16,
   "metadata": {
    "collapsed": false,
    "slideshow": {
     "slide_type": "slide"
    }
   },
   "outputs": [],
   "source": [
    "using JuMP\n",
    "using Gurobi"
   ]
  },
  {
   "cell_type": "code",
   "execution_count": 17,
   "metadata": {
    "collapsed": false,
    "slideshow": {
     "slide_type": "fragment"
    }
   },
   "outputs": [
    {
     "data": {
      "text/latex": [
       "$$ \\begin{alignat*}{1}\\min\\quad & 0\\\\\n",
       "\\text{Subject to} \\quad & x_{1} = 0\\\\\n",
       " & x_{10} = 9\\\\\n",
       " & x_{i} free \\quad\\forall i \\in \\{1,2,\\dots,9,10\\}\\\\\n",
       "\\end{alignat*}\n",
       " $$"
      ],
      "text/plain": [
       "Feasibility problem with:\n",
       " * 2 linear constraints\n",
       " * 10 variables\n",
       "Solver set to Gurobi.Gurobi"
      ]
     },
     "execution_count": 17,
     "metadata": {},
     "output_type": "execute_result"
    }
   ],
   "source": [
    "m = Model(solver=GurobiSolver())\n",
    "@defVar(m, x[1:10])\n",
    "@addConstraint(m, x[1] == 0)\n",
    "@addConstraint(m, x[end] == 9)\n",
    "m"
   ]
  },
  {
   "cell_type": "code",
   "execution_count": 18,
   "metadata": {
    "collapsed": false,
    "slideshow": {
     "slide_type": "fragment"
    }
   },
   "outputs": [
    {
     "data": {
      "text/plain": [
       ":Min"
      ]
     },
     "execution_count": 18,
     "metadata": {},
     "output_type": "execute_result"
    }
   ],
   "source": [
    "cost = zero(x[1])\n",
    "for j = 2:length(x)\n",
    "    cost += (x[j] - x[j-1])^2\n",
    "end\n",
    "@setObjective(m, Min, cost)"
   ]
  },
  {
   "cell_type": "code",
   "execution_count": 19,
   "metadata": {
    "collapsed": false,
    "slideshow": {
     "slide_type": "slide"
    }
   },
   "outputs": [
    {
     "name": "stdout",
     "output_type": "stream",
     "text": [
      "Optimize a model with 2 rows, 10 columns and 2 nonzeros\n",
      "Model has 19 quadratic objective terms\n",
      "Coefficient statistics:\n",
      "  Matrix range    [1e+00, 1e+00]\n",
      "  Objective range [0e+00, 0e+00]\n",
      "  Bounds range    [0e+00, 0e+00]\n",
      "  RHS range       [9e+00, 9e+00]\n",
      "Presolve removed 2 rows and 2 columns\n",
      "Presolve time: 0.00s\n",
      "Presolved: 0 rows, 8 columns, 0 nonzeros\n",
      "Presolved model has 15 quadratic objective terms\n",
      "Ordering time: 0.00s\n",
      "\n",
      "Barrier statistics:\n",
      " Free vars  : 15\n",
      " AA' NZ     : 1.300e+01\n",
      " Factor NZ  : 2.800e+01\n",
      " Factor Ops : 1.400e+02 (less than 1 second per iteration)\n",
      " Threads    : 1\n",
      "\n",
      "                  Objective                Residual\n",
      "Iter       Primal          Dual         Primal    Dual     Compl     Time\n",
      "   0   8.10000000e+01  8.10000000e+01  0.00e+00 9.00e+00  0.00e+00     0s\n",
      "   1   9.00000000e+00  9.00028400e+00  2.53e-15 9.00e-06  0.00e+00     0s\n",
      "   2   9.00000000e+00  9.00000000e+00  3.36e-15 3.18e-11  0.00e+00     0s\n",
      "\n",
      "Barrier solved model in 2 iterations and 0.00 seconds\n",
      "Optimal objective 9.00000000e+00\n",
      "\n"
     ]
    },
    {
     "data": {
      "text/plain": [
       "10-element Array{Float64,1}:\n",
       " -0.0\n",
       "  1.0\n",
       "  2.0\n",
       "  3.0\n",
       "  4.0\n",
       "  5.0\n",
       "  6.0\n",
       "  7.0\n",
       "  8.0\n",
       "  9.0"
      ]
     },
     "execution_count": 19,
     "metadata": {},
     "output_type": "execute_result"
    }
   ],
   "source": [
    "status = solve(m)\n",
    "y = map(getValue, x)"
   ]
  },
  {
   "cell_type": "code",
   "execution_count": 28,
   "metadata": {
    "collapsed": false,
    "slideshow": {
     "slide_type": "slide"
    }
   },
   "outputs": [
    {
     "name": "stdout",
     "output_type": "stream",
     "text": [
      "  0.097753 seconds (66.80 k allocations: 5.151 MB)\n"
     ]
    }
   ],
   "source": [
    "function optimize()\n",
    "    m = Model(solver=GurobiSolver(OutputFlag=0))\n",
    "    @defVar(m, x[1:10])\n",
    "    @addConstraint(m, x[1] == 0)\n",
    "    @addConstraint(m, x[end] == 8)\n",
    "    cost = zero(x[1])\n",
    "    for j = 2:length(x)\n",
    "        cost += (x[j] + x[j-1])^2\n",
    "    end\n",
    "    @setObjective(m, Min, cost)\n",
    "    status = solve(m)\n",
    "    return map(getValue, x)\n",
    "end\n",
    "\n",
    "@time for j = 1:100; optimize(); end\n",
    "    "
   ]
  },
  {
   "cell_type": "markdown",
   "metadata": {
    "slideshow": {
     "slide_type": "slide"
    }
   },
   "source": [
    "### Matlab (yalmip) implementation\n",
    "\n",
    "```\n",
    "function y = yalmip_qp()\n",
    "  x = sdpvar(10, 1, 'full');\n",
    "  cost = 0;\n",
    "  for j = 2:length(x)\n",
    "    cost = cost + (x(j) - x(j-1))^2;\n",
    "  end\n",
    "  constraints = [x(1) == 0, x(end) == 9];\n",
    "  params = sdpsettings('solver', 'gurobi', 'verbose', 0);\n",
    "  optimize(constraints, cost, params);\n",
    "  y = double(x);\n",
    "end\n",
    "```\n",
    "\n",
    "### Results\n",
    "```\n",
    ">> t0 = tic(); for j = 1:100; yalmip_qp(); end; toc(t0)\n",
    "Elapsed time is 14.343800 seconds.\n",
    "```"
   ]
  },
  {
   "cell_type": "code",
   "execution_count": 29,
   "metadata": {
    "collapsed": false,
    "slideshow": {
     "slide_type": "fragment"
    }
   },
   "outputs": [
    {
     "data": {
      "text/plain": [
       "146.62576687116564"
      ]
     },
     "execution_count": 29,
     "metadata": {},
     "output_type": "execute_result"
    }
   ],
   "source": [
    "14.34 / 0.0978"
   ]
  },
  {
   "cell_type": "markdown",
   "metadata": {
    "slideshow": {
     "slide_type": "slide"
    }
   },
   "source": [
    "# Matlab (drake QuadraticProgram) implementation\n",
    "\n",
    "```\n",
    "function y = drake_qp()\n",
    "  nv = 10;\n",
    "  Q = zeros(nv, nv);\n",
    "  for j = 2:nv\n",
    "    Q(j,j) = Q(j,j) + 1;\n",
    "    Q(j-1, j-1) = Q(j-1, j-1) + 1;\n",
    "    Q(j, j-1) = Q(j, j-1) - 1;\n",
    "    Q(j-1, j) = Q(j-1, j) - 1;\n",
    "  end\n",
    "  Aeq = zeros(2, nv);\n",
    "  beq = zeros(2, 1);\n",
    "  Aeq(1, 1) = 1;\n",
    "  beq(1) = 0;\n",
    "  Aeq(2, 10) = 1;\n",
    "  beq(2) = 9;\n",
    "\n",
    "  prog = QuadraticProgram(Q, zeros(nv, 1), [], [], Aeq, beq);\n",
    "  prog = prog.setSolver('gurobi');\n",
    "  y = prog.solve();\n",
    "end\n",
    "```\n",
    "\n",
    "## Results\n",
    "\n",
    "```\n",
    ">> t0 = tic(); for j = 1:100; drake_qp(); end; toc(t0);\n",
    "Elapsed time is 0.526965 seconds.\n",
    "```"
   ]
  },
  {
   "cell_type": "code",
   "execution_count": 30,
   "metadata": {
    "collapsed": false,
    "slideshow": {
     "slide_type": "fragment"
    }
   },
   "outputs": [
    {
     "data": {
      "text/plain": [
       "5.388548057259714"
      ]
     },
     "execution_count": 30,
     "metadata": {},
     "output_type": "execute_result"
    }
   ],
   "source": [
    "0.527 / 0.0978"
   ]
  },
  {
   "cell_type": "markdown",
   "metadata": {
    "slideshow": {
     "slide_type": "slide"
    }
   },
   "source": [
    "# Matlab (spotless) implementation\n",
    "\n",
    "```\n",
    "function y = spotless_qp()\n",
    "\n",
    "  prog = spotsosprog();\n",
    "  [prog, x] = prog.newFree(10, 1);\n",
    "  prog = prog.withEqs(x([1,10]) - [0; 9]);\n",
    "  obj = 0;\n",
    "  for j = 2:10\n",
    "    obj = obj + (x(j) - x(j-1))^2;\n",
    "  end\n",
    "  result = minimize(prog, obj, @spot_mosek);\n",
    "  y = double(result.eval(x));\n",
    "end\n",
    "```\n",
    "\n",
    "## Results\n",
    "\n",
    "```\n",
    ">> t0 = tic(); for j = 1:100; spotless_qp(); end; toc(t0)\n",
    "Elapsed time is 3.996355 seconds.\n",
    "```\n",
    "\n",
    "**but it gives the wrong answer** (spotless can't handle quadratic objectives?)\n",
    "See: <https://github.com/spot-toolbox/spotless/issues/14>"
   ]
  },
  {
   "cell_type": "code",
   "execution_count": 31,
   "metadata": {
    "collapsed": false,
    "slideshow": {
     "slide_type": "fragment"
    }
   },
   "outputs": [
    {
     "data": {
      "text/plain": [
       "40.858895705521476"
      ]
     },
     "execution_count": 31,
     "metadata": {},
     "output_type": "execute_result"
    }
   ],
   "source": [
    "3.996 / .0978"
   ]
  },
  {
   "cell_type": "markdown",
   "metadata": {
    "slideshow": {
     "slide_type": "slide"
    }
   },
   "source": [
    "# Check it out\n",
    " \n",
    "<http://julialang.org/>\n"
   ]
  }
 ],
 "metadata": {
  "celltoolbar": "Slideshow",
  "kernelspec": {
   "display_name": "Julia 0.4.1",
   "language": "julia",
   "name": "julia-0.4"
  },
  "language_info": {
   "file_extension": ".jl",
   "mimetype": "application/julia",
   "name": "julia",
   "version": "0.4.1"
  }
 },
 "nbformat": 4,
 "nbformat_minor": 0
}
